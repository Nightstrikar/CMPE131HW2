{
 "cells": [
  {
   "cell_type": "code",
   "execution_count": 76,
   "id": "65ff6817",
   "metadata": {
    "scrolled": true
   },
   "outputs": [
    {
     "name": "stdout",
     "output_type": "stream",
     "text": [
      "Pleae input the path of the data file: \n",
      "/Users/alberto/Downloads/cmpe131hw2data\n",
      "What type of file would you like the file to be converted to?\n",
      "-c CSV format\n",
      "-j JSON format\n",
      "-x XML format\n",
      "Enter in the letter to the corresponding format you would like: \n",
      "c\n",
      "Great you are converting the file to csv!\n",
      "Would you like to print another format [y/n]?\n",
      "y\n",
      "You choose to go again!\n",
      "What type of file would you like the file to be converted to?\n",
      "-c CSV format\n",
      "-j JSON format\n",
      "-x XML format\n",
      "Enter in the letter to the corresponding format you would like: \n",
      "j\n",
      "Great you are converting the file to json!\n",
      "Would you like to print another format [y/n]?\n",
      "y\n",
      "You choose to go again!\n",
      "What type of file would you like the file to be converted to?\n",
      "-c CSV format\n",
      "-j JSON format\n",
      "-x XML format\n",
      "Enter in the letter to the corresponding format you would like: \n",
      "x\n",
      "Great you are converting the file to xml!\n",
      "Would you like to print another format [y/n]?\n",
      "n\n",
      "You choose to not go again!\n"
     ]
    }
   ],
   "source": [
    "import os\n",
    "print(\"Pleae input the path of the data file: \")\n",
    "inputFile = input()\n",
    "f = open(inputFile,encoding='windows-1252')\n",
    "#print(f.read())\n",
    "#new = open(\"new_file1.csv\",\"x\")\n",
    "#with open(inputFile, \"r\",encoding='windows-1252') as scan:\n",
    "#    new.write(scan.read())\n",
    "#new.close()\n",
    "\n",
    "#new = open(\"new_file1.csv\",\"r\")    \n",
    "#print(new.read())\n",
    "    \n",
    "loop = True\n",
    "\n",
    "while loop:\n",
    "    print(\"What type of file would you like the file to be converted to?\")\n",
    "    print(\"-c CSV format\")\n",
    "    print(\"-j JSON format\")\n",
    "    print(\"-x XML format\")\n",
    "    print(\"Enter in the letter to the corresponding format you would like: \")\n",
    "    response = input()\n",
    "    if response == 'c':\n",
    "        print(\"Great you are converting the file to csv!\")\n",
    "        newCSV = open(\"newCSV.csv\",\"x\")\n",
    "        with open(inputFile, \"r\",encoding='windows-1252') as scan:\n",
    "            newCSV.write(scan.read())\n",
    "        newCSV.close()\n",
    "        #newCSV = open(\"newCSV.csv\",\"r\") \n",
    "        #print(newCSV.read())\n",
    "    elif response == 'j':\n",
    "        print(\"Great you are converting the file to json!\")\n",
    "        newJSON = open(\"newJSON.json\",\"x\")\n",
    "        with open(inputFile, \"r\",encoding='windows-1252') as scan:\n",
    "            newJSON.write(scan.read())\n",
    "        newJSON.close()\n",
    "        #newJSON = open(\"newJSON.json\",\"r\") \n",
    "        #print(newJSON.read())\n",
    "    elif response == 'x':\n",
    "        print(\"Great you are converting the file to xml!\")\n",
    "        newXML = open(\"newXML.xml\",\"w\")\n",
    "        with open(inputFile, \"r\",encoding='windows-1252') as scan:\n",
    "            newXML.write(scan.read())\n",
    "        newXML.close()\n",
    "        #newXML = open(\"newXML.xml\",\"r\")    \n",
    "        #print(newXML.read())\n",
    "    else:\n",
    "        print(\"You did not input something correctly!\")\n",
    "        \n",
    "    print(\"Would you like to print another format [y/n]?\")\n",
    "    goagain = input()\n",
    "    if goagain == 'y':\n",
    "        print(\"You choose to go again!\")\n",
    "    elif goagain == 'n':\n",
    "        print(\"You choose to not go again!\")\n",
    "        loop = False\n",
    "    else:\n",
    "        print(\"Invalid response, getting kicked out :(\")\n",
    "        loop = False\n"
   ]
  },
  {
   "cell_type": "code",
   "execution_count": 75,
   "id": "db73881c",
   "metadata": {
    "scrolled": false
   },
   "outputs": [],
   "source": []
  },
  {
   "cell_type": "code",
   "execution_count": null,
   "id": "398a41ad",
   "metadata": {},
   "outputs": [],
   "source": []
  }
 ],
 "metadata": {
  "kernelspec": {
   "display_name": "Python 3 (ipykernel)",
   "language": "python",
   "name": "python3"
  },
  "language_info": {
   "codemirror_mode": {
    "name": "ipython",
    "version": 3
   },
   "file_extension": ".py",
   "mimetype": "text/x-python",
   "name": "python",
   "nbconvert_exporter": "python",
   "pygments_lexer": "ipython3",
   "version": "3.9.7"
  }
 },
 "nbformat": 4,
 "nbformat_minor": 5
}
